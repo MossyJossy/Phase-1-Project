{
 "cells": [
  {
   "cell_type": "code",
   "execution_count": 1,
   "metadata": {},
   "outputs": [],
   "source": [
    "import pandas as pd"
   ]
  },
  {
   "cell_type": "code",
   "execution_count": 4,
   "metadata": {},
   "outputs": [
    {
     "data": {
      "text/html": [
       "<div>\n",
       "<style scoped>\n",
       "    .dataframe tbody tr th:only-of-type {\n",
       "        vertical-align: middle;\n",
       "    }\n",
       "\n",
       "    .dataframe tbody tr th {\n",
       "        vertical-align: top;\n",
       "    }\n",
       "\n",
       "    .dataframe thead th {\n",
       "        text-align: right;\n",
       "    }\n",
       "</style>\n",
       "<table border=\"1\" class=\"dataframe\">\n",
       "  <thead>\n",
       "    <tr style=\"text-align: right;\">\n",
       "      <th></th>\n",
       "      <th>&lt;!doctype html&gt;&lt;html lang=\"en-GB\" dir=\"ltr\"&gt;&lt;head&gt;&lt;base href=\"https://accounts.google.com/\"&gt;&lt;script data-id=\"_gd\" nonce=\"jI750mbmxezVrYxkNt7utQ\"&gt;window.WIZ_global_data = {\"FoW6je\":false,\"Mo6CHc\":5945151004130279167,\"OewCAd\":\"%.@.\\\"xsrf\\\",null,[\\\"\\\"],\\\"AFoagUXryMG3cuJMYfCmbyqXeJbpWNlCjg:1655361303089\\\"]\",\"Qzxixc\":\"S-889028519:1655361303067867\",\"thykhd\":\"AKH95etadUfbUa5y9UqsfrTcf1bJ9D7S4JN3DOuG7nFxzfyhghDuY1AMndCfvSQYTPTt0R4snOuuvrWR3OezUB5EXGzPQ4s5abzRgr8WhW32a8BJL0Asvlo0gvy3UpAq\",\"w2btAe\":\"%.@.null,null,\\\"\\\",false,null,null,true,false]\"};&lt;/script&gt;&lt;meta charset=\"utf-8\"/&gt;&lt;meta http-equiv=\"X-UA-Compatible\" content=\"IE=edge\"/&gt;&lt;link rel=\"shortcut icon\" href=\"//www.google.com/favicon.ico\"/&gt;&lt;noscript&gt;&lt;meta http-equiv=\"refresh\" content=\"0; url=https://accounts.google.com/ServiceLogin?continue=https%3A%2F%2Fmail.google.com%2Fmail%2F%3Fui%3D2%26ik%3D99fb518c26%26attid%3D0.1%26permmsgid%3Dmsg-f%3A1735753472327247649%26th%3D1816a2962fb76721%26view%3Datt%26disp%3Dsafe%26sadnir%3D1&amp;amp;rip=1&amp;amp;nojavascript=1&amp;amp;ifkv=AX3vH3_iTnLiElFHQPz6YE89tSEImoCLGvuESE1_xYTRLDQ5yLBS0XAZCzyO11-6AzIaQi5BRO5n&amp;amp;emr=1&amp;amp;osid=1&amp;amp;rm=false&amp;amp;service=mail&amp;amp;scc=1&amp;amp;ltmpl=default\"&gt;&lt;style nonce=\"55_hwvIiFGPhZWhKmHK5RQ\"&gt;body{opacity:0;}&lt;/style&gt;&lt;/noscript&gt;&lt;title&gt;Gmail&lt;/title&gt;&lt;meta name=\"description\" content=\"Gmail is email that&amp;#39;s intuitive, efficient and useful. 15 GB of storage, less spam and mobile access.\"&gt;&lt;script nonce=\"jI750mbmxezVrYxkNt7utQ\"&gt;(function(H) {H.className=\"CMgTXc\";})(document.documentElement);&lt;/script&gt;&lt;script nonce=\"jI750mbmxezVrYxkNt7utQ\"&gt;//# sourceMappingURL=data:application/json;charset=utf-8;base64,eyJ2ZXJzaW9uIjogMywic291cmNlcyI6WyIiXSwic291cmNlc0NvbnRlbnQiOlsiICJdLCJuYW1lcyI6WyJjbG9zdXJlRHluYW1pY0J1dHRvbiJdLCJtYXBwaW5ncyI6IkFBQUE7QUFBQTtBQUFBO0FBQUE7QUFBQTtBQUFBO0FBQUEifQ==</th>\n",
       "    </tr>\n",
       "  </thead>\n",
       "  <tbody>\n",
       "    <tr>\n",
       "      <th>0</th>\n",
       "      <td>(function(){var r=function(X,g,N,p,T,I,k,Q,y,O...</td>\n",
       "    </tr>\n",
       "    <tr>\n",
       "      <th>1</th>\n",
       "      <td>'(function(){var O_=function(X,O,N,g,p,S,y,T){...</td>\n",
       "    </tr>\n",
       "    <tr>\n",
       "      <th>2</th>\n",
       "      <td>' == 0*/',</td>\n",
       "    </tr>\n",
       "    <tr>\n",
       "      <th>3</th>\n",
       "      <td>'}).call(this);'].join('\\n')))(Q)(X.substr(0,p...</td>\n",
       "    </tr>\n",
       "    <tr>\n",
       "      <th>4</th>\n",
       "      <td>/*# sourceURL=/accounts/static/_/ss/k=gaia.gai...</td>\n",
       "    </tr>\n",
       "    <tr>\n",
       "      <th>...</th>\n",
       "      <td>...</td>\n",
       "    </tr>\n",
       "    <tr>\n",
       "      <th>3957</th>\n",
       "      <td>_.u();</td>\n",
       "    </tr>\n",
       "    <tr>\n",
       "      <th>3958</th>\n",
       "      <td>}catch(e){_._DumpException(e)}</td>\n",
       "    </tr>\n",
       "    <tr>\n",
       "      <th>3959</th>\n",
       "      <td>})(this._G);</td>\n",
       "    </tr>\n",
       "    <tr>\n",
       "      <th>3960</th>\n",
       "      <td>// Google Inc.</td>\n",
       "    </tr>\n",
       "    <tr>\n",
       "      <th>3961</th>\n",
       "      <td>//# sourceURL=/accounts/static/_/js/k=gaia.gai...</td>\n",
       "    </tr>\n",
       "  </tbody>\n",
       "</table>\n",
       "<p>3962 rows × 1 columns</p>\n",
       "</div>"
      ],
      "text/plain": [
       "     <!doctype html><html lang=\"en-GB\" dir=\"ltr\"><head><base href=\"https://accounts.google.com/\"><script data-id=\"_gd\" nonce=\"jI750mbmxezVrYxkNt7utQ\">window.WIZ_global_data = {\"FoW6je\":false,\"Mo6CHc\":5945151004130279167,\"OewCAd\":\"%.@.\\\"xsrf\\\",null,[\\\"\\\"],\\\"AFoagUXryMG3cuJMYfCmbyqXeJbpWNlCjg:1655361303089\\\"]\",\"Qzxixc\":\"S-889028519:1655361303067867\",\"thykhd\":\"AKH95etadUfbUa5y9UqsfrTcf1bJ9D7S4JN3DOuG7nFxzfyhghDuY1AMndCfvSQYTPTt0R4snOuuvrWR3OezUB5EXGzPQ4s5abzRgr8WhW32a8BJL0Asvlo0gvy3UpAq\",\"w2btAe\":\"%.@.null,null,\\\"\\\",false,null,null,true,false]\"};</script><meta charset=\"utf-8\"/><meta http-equiv=\"X-UA-Compatible\" content=\"IE=edge\"/><link rel=\"shortcut icon\" href=\"//www.google.com/favicon.ico\"/><noscript><meta http-equiv=\"refresh\" content=\"0; url=https://accounts.google.com/ServiceLogin?continue=https%3A%2F%2Fmail.google.com%2Fmail%2F%3Fui%3D2%26ik%3D99fb518c26%26attid%3D0.1%26permmsgid%3Dmsg-f%3A1735753472327247649%26th%3D1816a2962fb76721%26view%3Datt%26disp%3Dsafe%26sadnir%3D1&amp;rip=1&amp;nojavascript=1&amp;ifkv=AX3vH3_iTnLiElFHQPz6YE89tSEImoCLGvuESE1_xYTRLDQ5yLBS0XAZCzyO11-6AzIaQi5BRO5n&amp;emr=1&amp;osid=1&amp;rm=false&amp;service=mail&amp;scc=1&amp;ltmpl=default\"><style nonce=\"55_hwvIiFGPhZWhKmHK5RQ\">body{opacity:0;}</style></noscript><title>Gmail</title><meta name=\"description\" content=\"Gmail is email that&#39;s intuitive, efficient and useful. 15 GB of storage, less spam and mobile access.\"><script nonce=\"jI750mbmxezVrYxkNt7utQ\">(function(H) {H.className=\"CMgTXc\";})(document.documentElement);</script><script nonce=\"jI750mbmxezVrYxkNt7utQ\">//# sourceMappingURL=data:application/json;charset=utf-8;base64,eyJ2ZXJzaW9uIjogMywic291cmNlcyI6WyIiXSwic291cmNlc0NvbnRlbnQiOlsiICJdLCJuYW1lcyI6WyJjbG9zdXJlRHluYW1pY0J1dHRvbiJdLCJtYXBwaW5ncyI6IkFBQUE7QUFBQTtBQUFBO0FBQUE7QUFBQTtBQUFBO0FBQUEifQ==\n",
       "0     (function(){var r=function(X,g,N,p,T,I,k,Q,y,O...                                                                                                                                                                                                                                                                                                                                                                                                                                                                                                                                                                                                                                                                                                                                                                                                                                                                                                                                                                                                                                                                                                                                                                                                                                                                                                                                                                                                                                                                                                                                                                                                                                                                                                                                                                                                                             \n",
       "1     '(function(){var O_=function(X,O,N,g,p,S,y,T){...                                                                                                                                                                                                                                                                                                                                                                                                                                                                                                                                                                                                                                                                                                                                                                                                                                                                                                                                                                                                                                                                                                                                                                                                                                                                                                                                                                                                                                                                                                                                                                                                                                                                                                                                                                                                                             \n",
       "2                                            ' == 0*/',                                                                                                                                                                                                                                                                                                                                                                                                                                                                                                                                                                                                                                                                                                                                                                                                                                                                                                                                                                                                                                                                                                                                                                                                                                                                                                                                                                                                                                                                                                                                                                                                                                                                                                                                                                                                                             \n",
       "3     '}).call(this);'].join('\\n')))(Q)(X.substr(0,p...                                                                                                                                                                                                                                                                                                                                                                                                                                                                                                                                                                                                                                                                                                                                                                                                                                                                                                                                                                                                                                                                                                                                                                                                                                                                                                                                                                                                                                                                                                                                                                                                                                                                                                                                                                                                                             \n",
       "4     /*# sourceURL=/accounts/static/_/ss/k=gaia.gai...                                                                                                                                                                                                                                                                                                                                                                                                                                                                                                                                                                                                                                                                                                                                                                                                                                                                                                                                                                                                                                                                                                                                                                                                                                                                                                                                                                                                                                                                                                                                                                                                                                                                                                                                                                                                                             \n",
       "...                                                 ...                                                                                                                                                                                                                                                                                                                                                                                                                                                                                                                                                                                                                                                                                                                                                                                                                                                                                                                                                                                                                                                                                                                                                                                                                                                                                                                                                                                                                                                                                                                                                                                                                                                                                                                                                                                                                             \n",
       "3957                                             _.u();                                                                                                                                                                                                                                                                                                                                                                                                                                                                                                                                                                                                                                                                                                                                                                                                                                                                                                                                                                                                                                                                                                                                                                                                                                                                                                                                                                                                                                                                                                                                                                                                                                                                                                                                                                                                                             \n",
       "3958                     }catch(e){_._DumpException(e)}                                                                                                                                                                                                                                                                                                                                                                                                                                                                                                                                                                                                                                                                                                                                                                                                                                                                                                                                                                                                                                                                                                                                                                                                                                                                                                                                                                                                                                                                                                                                                                                                                                                                                                                                                                                                                             \n",
       "3959                                       })(this._G);                                                                                                                                                                                                                                                                                                                                                                                                                                                                                                                                                                                                                                                                                                                                                                                                                                                                                                                                                                                                                                                                                                                                                                                                                                                                                                                                                                                                                                                                                                                                                                                                                                                                                                                                                                                                                             \n",
       "3960                                     // Google Inc.                                                                                                                                                                                                                                                                                                                                                                                                                                                                                                                                                                                                                                                                                                                                                                                                                                                                                                                                                                                                                                                                                                                                                                                                                                                                                                                                                                                                                                                                                                                                                                                                                                                                                                                                                                                                                             \n",
       "3961  //# sourceURL=/accounts/static/_/js/k=gaia.gai...                                                                                                                                                                                                                                                                                                                                                                                                                                                                                                                                                                                                                                                                                                                                                                                                                                                                                                                                                                                                                                                                                                                                                                                                                                                                                                                                                                                                                                                                                                                                                                                                                                                                                                                                                                                                                             \n",
       "\n",
       "[3962 rows x 1 columns]"
      ]
     },
     "execution_count": 4,
     "metadata": {},
     "output_type": "execute_result"
    }
   ],
   "source": [
    "df = pd.read_csv('rt.movie_info.tsv', sep='\\t')\n",
    "df"
   ]
  },
  {
   "cell_type": "code",
   "execution_count": null,
   "metadata": {},
   "outputs": [],
   "source": []
  },
  {
   "cell_type": "code",
   "execution_count": null,
   "metadata": {},
   "outputs": [],
   "source": []
  }
 ],
 "metadata": {
  "kernelspec": {
   "display_name": "Python (learn-env)",
   "language": "python",
   "name": "learn-env"
  },
  "language_info": {
   "codemirror_mode": {
    "name": "ipython",
    "version": 3
   },
   "file_extension": ".py",
   "mimetype": "text/x-python",
   "name": "python",
   "nbconvert_exporter": "python",
   "pygments_lexer": "ipython3",
   "version": "3.8.5"
  }
 },
 "nbformat": 4,
 "nbformat_minor": 4
}
